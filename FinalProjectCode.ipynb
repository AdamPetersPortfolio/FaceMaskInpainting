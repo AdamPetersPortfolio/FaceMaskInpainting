{
  "nbformat": 4,
  "nbformat_minor": 0,
  "metadata": {
    "colab": {
      "name": "FinalProjectCode.ipynb",
      "provenance": [],
      "collapsed_sections": []
    },
    "kernelspec": {
      "name": "python3",
      "display_name": "Python 3"
    },
    "language_info": {
      "name": "python"
    }
  },
  "cells": [
    {
      "cell_type": "markdown",
      "source": [
        "# Efficient Mask Inpainting via Convolutional and Generative Adversarial Network Approaches\n",
        "##### By Ryan Beckwith and Adam Peters"
      ],
      "metadata": {
        "id": "HaNifdlz1WhS"
      }
    },
    {
      "cell_type": "markdown",
      "source": [
        "# Loading Data"
      ],
      "metadata": {
        "id": "i-kylKLC1qud"
      }
    },
    {
      "cell_type": "code",
      "source": [
        "import tensorflow as tf\n",
        "from tensorflow import keras\n",
        "from tensorflow.keras import layers\n",
        "from keras.preprocessing.image import img_to_array\n",
        "import numpy as np\n",
        "import cv2\n",
        "import os\n",
        "import glob\n",
        "import matplotlib.pyplot as plt\n",
        "import time\n",
        "! pip install livelossplot\n",
        "import livelossplot"
      ],
      "metadata": {
        "id": "FNWbyhD11gke",
        "colab": {
          "base_uri": "https://localhost:8080/"
        },
        "outputId": "f7443e40-42f9-4800-d0cb-836af3b9f4e7"
      },
      "execution_count": null,
      "outputs": [
        {
          "output_type": "stream",
          "name": "stdout",
          "text": [
            "Requirement already satisfied: livelossplot in /usr/local/lib/python3.7/dist-packages (0.5.5)\n",
            "Requirement already satisfied: numpy<1.22 in /usr/local/lib/python3.7/dist-packages (from livelossplot) (1.21.6)\n",
            "Requirement already satisfied: bokeh in /usr/local/lib/python3.7/dist-packages (from livelossplot) (2.3.3)\n",
            "Requirement already satisfied: matplotlib in /usr/local/lib/python3.7/dist-packages (from livelossplot) (3.2.2)\n",
            "Requirement already satisfied: ipython==7.* in /usr/local/lib/python3.7/dist-packages (from livelossplot) (7.33.0)\n",
            "Requirement already satisfied: prompt-toolkit!=3.0.0,!=3.0.1,<3.1.0,>=2.0.0 in /usr/local/lib/python3.7/dist-packages (from ipython==7.*->livelossplot) (3.0.29)\n",
            "Requirement already satisfied: setuptools>=18.5 in /usr/local/lib/python3.7/dist-packages (from ipython==7.*->livelossplot) (57.4.0)\n",
            "Requirement already satisfied: matplotlib-inline in /usr/local/lib/python3.7/dist-packages (from ipython==7.*->livelossplot) (0.1.3)\n",
            "Requirement already satisfied: backcall in /usr/local/lib/python3.7/dist-packages (from ipython==7.*->livelossplot) (0.2.0)\n",
            "Requirement already satisfied: decorator in /usr/local/lib/python3.7/dist-packages (from ipython==7.*->livelossplot) (4.4.2)\n",
            "Requirement already satisfied: pygments in /usr/local/lib/python3.7/dist-packages (from ipython==7.*->livelossplot) (2.6.1)\n",
            "Requirement already satisfied: pexpect>4.3 in /usr/local/lib/python3.7/dist-packages (from ipython==7.*->livelossplot) (4.8.0)\n",
            "Requirement already satisfied: pickleshare in /usr/local/lib/python3.7/dist-packages (from ipython==7.*->livelossplot) (0.7.5)\n",
            "Requirement already satisfied: jedi>=0.16 in /usr/local/lib/python3.7/dist-packages (from ipython==7.*->livelossplot) (0.18.1)\n",
            "Requirement already satisfied: traitlets>=4.2 in /usr/local/lib/python3.7/dist-packages (from ipython==7.*->livelossplot) (5.1.1)\n",
            "Requirement already satisfied: parso<0.9.0,>=0.8.0 in /usr/local/lib/python3.7/dist-packages (from jedi>=0.16->ipython==7.*->livelossplot) (0.8.3)\n",
            "Requirement already satisfied: ptyprocess>=0.5 in /usr/local/lib/python3.7/dist-packages (from pexpect>4.3->ipython==7.*->livelossplot) (0.7.0)\n",
            "Requirement already satisfied: wcwidth in /usr/local/lib/python3.7/dist-packages (from prompt-toolkit!=3.0.0,!=3.0.1,<3.1.0,>=2.0.0->ipython==7.*->livelossplot) (0.2.5)\n",
            "Requirement already satisfied: packaging>=16.8 in /usr/local/lib/python3.7/dist-packages (from bokeh->livelossplot) (21.3)\n",
            "Requirement already satisfied: pillow>=7.1.0 in /usr/local/lib/python3.7/dist-packages (from bokeh->livelossplot) (7.1.2)\n",
            "Requirement already satisfied: typing-extensions>=3.7.4 in /usr/local/lib/python3.7/dist-packages (from bokeh->livelossplot) (4.2.0)\n",
            "Requirement already satisfied: python-dateutil>=2.1 in /usr/local/lib/python3.7/dist-packages (from bokeh->livelossplot) (2.8.2)\n",
            "Requirement already satisfied: tornado>=5.1 in /usr/local/lib/python3.7/dist-packages (from bokeh->livelossplot) (5.1.1)\n",
            "Requirement already satisfied: PyYAML>=3.10 in /usr/local/lib/python3.7/dist-packages (from bokeh->livelossplot) (3.13)\n",
            "Requirement already satisfied: Jinja2>=2.9 in /usr/local/lib/python3.7/dist-packages (from bokeh->livelossplot) (2.11.3)\n",
            "Requirement already satisfied: MarkupSafe>=0.23 in /usr/local/lib/python3.7/dist-packages (from Jinja2>=2.9->bokeh->livelossplot) (2.0.1)\n",
            "Requirement already satisfied: pyparsing!=3.0.5,>=2.0.2 in /usr/local/lib/python3.7/dist-packages (from packaging>=16.8->bokeh->livelossplot) (3.0.8)\n",
            "Requirement already satisfied: six>=1.5 in /usr/local/lib/python3.7/dist-packages (from python-dateutil>=2.1->bokeh->livelossplot) (1.15.0)\n",
            "Requirement already satisfied: kiwisolver>=1.0.1 in /usr/local/lib/python3.7/dist-packages (from matplotlib->livelossplot) (1.4.2)\n",
            "Requirement already satisfied: cycler>=0.10 in /usr/local/lib/python3.7/dist-packages (from matplotlib->livelossplot) (0.11.0)\n"
          ]
        }
      ]
    },
    {
      "cell_type": "code",
      "source": [
        "# Downloading data from Kaggle\n",
        "# Note: you must provide a valid kaggle.json api key\n",
        "\n",
        "! pip install kaggle\n",
        "! mkdir ~/.kaggle\n",
        "! cp kaggle.json ~/.kaggle/\n",
        "! cp kaggle.json ~/.kaggle/\n",
        "! chmod 600 ~/.kaggle/kaggle.json\n",
        "! kaggle datasets download prasoonkottarathil/face-mask-lite-dataset\n",
        "! unzip face-mask-lite-dataset.zip"
      ],
      "metadata": {
        "id": "71Eeo9pg2bE-"
      },
      "execution_count": null,
      "outputs": []
    },
    {
      "cell_type": "code",
      "source": [
        "SIZELARGE = 256\n",
        "SIZESMALL = 128"
      ],
      "metadata": {
        "id": "bogQv_qT2sX5"
      },
      "execution_count": null,
      "outputs": []
    },
    {
      "cell_type": "code",
      "source": [
        "def loadData(imageSize):\n",
        "    masks = []\n",
        "    noMasks = []\n",
        "\n",
        "    def loadImage(file):\n",
        "        image = cv2.imread(file)\n",
        "        image = cv2.cvtColor(image, cv2.COLOR_BGR2RGB)\n",
        "        image = cv2.resize(image, (imageSize, imageSize))\n",
        "        image = image.astype('float32') / 255.0\n",
        "        return img_to_array(image)\n",
        "\n",
        "    files = glob.glob('with_mask/*')\n",
        "    files.sort()\n",
        "    for i in range(1000): \n",
        "        masks.append(loadImage(files[i]))\n",
        "\n",
        "    files = glob.glob('without_mask/*')\n",
        "    files.sort()\n",
        "    for i in range(1000): \n",
        "        noMasks.append(loadImage(files[i]))\n",
        "\n",
        "    masks = np.array(masks)\n",
        "    noMasks = np.array(noMasks)\n",
        "\n",
        "    return masks, noMasks"
      ],
      "metadata": {
        "id": "QtgHal1Y20kd"
      },
      "execution_count": null,
      "outputs": []
    },
    {
      "cell_type": "code",
      "source": [
        "masksLarge, noMasksLarge = loadData(SIZELARGE)\n",
        "masksSmall, noMasksSmall = loadData(SIZESMALL)"
      ],
      "metadata": {
        "id": "g96a-BHz3QyS"
      },
      "execution_count": null,
      "outputs": []
    },
    {
      "cell_type": "markdown",
      "source": [
        "# Callbacks for Training"
      ],
      "metadata": {
        "id": "N0pUGOrD440h"
      }
    },
    {
      "cell_type": "code",
      "source": [
        "class PerformancePlotCallback(keras.callbacks.Callback):\n",
        "    def __init__(self, x_test, y_test, size):\n",
        "        self.x_test = x_test\n",
        "        self.y_test = y_test\n",
        "        self.size = size\n",
        "\n",
        "    def plot_image_pair(self, noMask, noMaskPred, epoch):\n",
        "        plt.figure(figsize = (7,7))\n",
        "        plt.subplot(1,2,1)\n",
        "        plt.title(\"Ground Truth\", fontsize = 15)\n",
        "        plt.imshow(noMask.reshape(self.size, self.size, 3))\n",
        "        plt.subplot(1,2,2)\n",
        "        plt.title(f\"Prediction for epoch {epoch}\", fontsize = 15)\n",
        "        plt.imshow(noMaskPred.reshape(self.size, self.size, 3))\n",
        "        \n",
        "    def on_epoch_end(self, epoch, logs={}):\n",
        "        y_pred = self.model.predict(self.x_test)\n",
        "        self.plot_image_pair(self.y_test, y_pred, epoch)"
      ],
      "metadata": {
        "id": "T7i5WQzi34_1"
      },
      "execution_count": null,
      "outputs": []
    },
    {
      "cell_type": "markdown",
      "source": [
        "# Pooling-Free CNN"
      ],
      "metadata": {
        "id": "cy7rP0U51syO"
      }
    },
    {
      "cell_type": "code",
      "source": [
        "poolingFree = keras.Sequential()\n",
        "poolingFree.add(keras.Input(shape=(SIZELARGE, SIZELARGE, 3)))  # 256x256 RGB images\n",
        "poolingFree.add(layers.Conv2D(32, 3, strides=1, activation=\"relu\", padding=\"same\", input_shape=(SIZELARGE,SIZELARGE,3)))\n",
        "poolingFree.add(layers.Conv2D(64, 5, strides=1, activation=\"relu\", padding=\"same\"))\n",
        "poolingFree.add(layers.Conv2D(32, 3, strides=1, activation=\"relu\", padding=\"same\"))\n",
        "poolingFree.add(layers.Dropout(.25))\n",
        "poolingFree.add(layers.Dense(3, activation=\"relu\"))\n",
        "poolingFree.add(layers.Conv2D(32, 3, activation=\"relu\", padding=\"same\", ))\n",
        "poolingFree.add(layers.Dropout(.2))\n",
        "poolingFree.add(layers.Conv2D(3, 3, activation=\"relu\", padding=\"same\"))"
      ],
      "metadata": {
        "id": "iM-bFSgm1xmf"
      },
      "execution_count": null,
      "outputs": []
    },
    {
      "cell_type": "code",
      "source": [
        "poolingFree.summary()"
      ],
      "metadata": {
        "colab": {
          "base_uri": "https://localhost:8080/"
        },
        "id": "DhLrF4Ni3rEU",
        "outputId": "77965729-333d-4a5b-c9ca-ca577c66dc53"
      },
      "execution_count": null,
      "outputs": [
        {
          "output_type": "stream",
          "name": "stdout",
          "text": [
            "Model: \"sequential\"\n",
            "_________________________________________________________________\n",
            " Layer (type)                Output Shape              Param #   \n",
            "=================================================================\n",
            " conv2d (Conv2D)             (None, 256, 256, 32)      896       \n",
            "                                                                 \n",
            " conv2d_1 (Conv2D)           (None, 256, 256, 64)      51264     \n",
            "                                                                 \n",
            " conv2d_2 (Conv2D)           (None, 256, 256, 32)      18464     \n",
            "                                                                 \n",
            " dropout (Dropout)           (None, 256, 256, 32)      0         \n",
            "                                                                 \n",
            " dense (Dense)               (None, 256, 256, 3)       99        \n",
            "                                                                 \n",
            " conv2d_3 (Conv2D)           (None, 256, 256, 32)      896       \n",
            "                                                                 \n",
            " dropout_1 (Dropout)         (None, 256, 256, 32)      0         \n",
            "                                                                 \n",
            " conv2d_4 (Conv2D)           (None, 256, 256, 3)       867       \n",
            "                                                                 \n",
            "=================================================================\n",
            "Total params: 72,486\n",
            "Trainable params: 72,486\n",
            "Non-trainable params: 0\n",
            "_________________________________________________________________\n"
          ]
        }
      ]
    },
    {
      "cell_type": "code",
      "source": [
        "performance = PerformancePlotCallback(masksLarge[0].reshape((1, SIZELARGE, SIZELARGE, 3)), \n",
        "                                      noMasksLarge[0].reshape((1, SIZELARGE, SIZELARGE, 3)),\n",
        "                                      SIZELARGE)\n",
        "plot_losses = livelossplot.PlotLossesKeras()"
      ],
      "metadata": {
        "id": "QzVzO20z4HiY"
      },
      "execution_count": null,
      "outputs": []
    },
    {
      "cell_type": "code",
      "source": [
        "# Compile model\n",
        "poolingFree.compile(optimizer='Adam',\n",
        "                    loss='mse',\n",
        "                    metrics=['accuracy'])\n",
        "\n",
        "poolingFree.fit(masksLarge[:90], noMasksLarge[:90],\n",
        "                epochs=50,    \n",
        "                callbacks=[plot_losses, performance],\n",
        "                verbose=1,\n",
        "                validation_data=(masksLarge[90:100], noMasksLarge[90:100]))"
      ],
      "metadata": {
        "id": "rZP-t7o83wjW"
      },
      "execution_count": null,
      "outputs": []
    },
    {
      "cell_type": "markdown",
      "source": [
        "# Single-Pooling CNN"
      ],
      "metadata": {
        "id": "GQuqO5Y918IE"
      }
    },
    {
      "cell_type": "code",
      "source": [
        "singlePool = keras.Sequential()\n",
        "singlePool.add(keras.Input(shape=(SIZELARGE, SIZELARGE, 3)))\n",
        "singlePool.add(layers.Conv2D(32, 3, strides=1, activation=\"relu\", padding=\"same\", input_shape=(SIZELARGE,SIZELARGE,3)))\n",
        "singlePool.add(layers.MaxPooling2D(2, padding=\"same\"))\n",
        "singlePool.add(layers.Conv2D(64, 5, strides=1, activation=\"relu\", padding=\"same\"))\n",
        "singlePool.add(layers.Dropout(.2))\n",
        "singlePool.add(layers.BatchNormalization())\n",
        "singlePool.add(layers.Conv2D(64, 3, strides=1, activation=\"relu\", padding=\"same\"))\n",
        "singlePool.add(layers.Dropout(.25))\n",
        "singlePool.add(layers.Conv2D(128, 3, strides=1, activation=\"relu\", padding=\"same\"))\n",
        "singlePool.add(layers.Dropout(.25))\n",
        "singlePool.add(layers.Dense(3, activation=\"relu\"))\n",
        "singlePool.add(layers.Conv2D(128, 3, activation=\"relu\", padding=\"same\", ))\n",
        "singlePool.add(layers.UpSampling2D(2))\n",
        "singlePool.add(layers.Conv2D(64, 3, activation=\"relu\", padding=\"same\", ))\n",
        "singlePool.add(layers.Dropout(.2))\n",
        "singlePool.add(layers.BatchNormalization())\n",
        "singlePool.add(layers.Conv2D(32, 3, activation=\"relu\", padding=\"same\", ))\n",
        "singlePool.add(layers.Dropout(.2))\n",
        "singlePool.add(layers.Conv2D(64, 3, activation=\"relu\", padding=\"same\", ))\n",
        "singlePool.add(layers.Dropout(.2))\n",
        "singlePool.add(layers.Conv2D(3, 3, activation=\"relu\", padding=\"same\"))"
      ],
      "metadata": {
        "id": "vPpQwhlS1_HB"
      },
      "execution_count": null,
      "outputs": []
    },
    {
      "cell_type": "code",
      "source": [
        "singlePool.summary()"
      ],
      "metadata": {
        "colab": {
          "base_uri": "https://localhost:8080/"
        },
        "id": "Cj4kVdQx4uEK",
        "outputId": "8298f92e-856e-4688-b374-0839b9f313d4"
      },
      "execution_count": null,
      "outputs": [
        {
          "output_type": "stream",
          "name": "stdout",
          "text": [
            "Model: \"sequential_1\"\n",
            "_________________________________________________________________\n",
            " Layer (type)                Output Shape              Param #   \n",
            "=================================================================\n",
            " conv2d_5 (Conv2D)           (None, 256, 256, 32)      896       \n",
            "                                                                 \n",
            " max_pooling2d (MaxPooling2D  (None, 128, 128, 32)     0         \n",
            " )                                                               \n",
            "                                                                 \n",
            " conv2d_6 (Conv2D)           (None, 128, 128, 64)      51264     \n",
            "                                                                 \n",
            " dropout_2 (Dropout)         (None, 128, 128, 64)      0         \n",
            "                                                                 \n",
            " batch_normalization (BatchN  (None, 128, 128, 64)     256       \n",
            " ormalization)                                                   \n",
            "                                                                 \n",
            " conv2d_7 (Conv2D)           (None, 128, 128, 64)      36928     \n",
            "                                                                 \n",
            " dropout_3 (Dropout)         (None, 128, 128, 64)      0         \n",
            "                                                                 \n",
            " conv2d_8 (Conv2D)           (None, 128, 128, 128)     73856     \n",
            "                                                                 \n",
            " dropout_4 (Dropout)         (None, 128, 128, 128)     0         \n",
            "                                                                 \n",
            " dense_1 (Dense)             (None, 128, 128, 3)       387       \n",
            "                                                                 \n",
            " conv2d_9 (Conv2D)           (None, 128, 128, 128)     3584      \n",
            "                                                                 \n",
            " up_sampling2d (UpSampling2D  (None, 256, 256, 128)    0         \n",
            " )                                                               \n",
            "                                                                 \n",
            " conv2d_10 (Conv2D)          (None, 256, 256, 64)      73792     \n",
            "                                                                 \n",
            " dropout_5 (Dropout)         (None, 256, 256, 64)      0         \n",
            "                                                                 \n",
            " batch_normalization_1 (Batc  (None, 256, 256, 64)     256       \n",
            " hNormalization)                                                 \n",
            "                                                                 \n",
            " conv2d_11 (Conv2D)          (None, 256, 256, 32)      18464     \n",
            "                                                                 \n",
            " dropout_6 (Dropout)         (None, 256, 256, 32)      0         \n",
            "                                                                 \n",
            " conv2d_12 (Conv2D)          (None, 256, 256, 64)      18496     \n",
            "                                                                 \n",
            " dropout_7 (Dropout)         (None, 256, 256, 64)      0         \n",
            "                                                                 \n",
            " conv2d_13 (Conv2D)          (None, 256, 256, 3)       1731      \n",
            "                                                                 \n",
            "=================================================================\n",
            "Total params: 279,910\n",
            "Trainable params: 279,654\n",
            "Non-trainable params: 256\n",
            "_________________________________________________________________\n"
          ]
        }
      ]
    },
    {
      "cell_type": "code",
      "source": [
        "performance = PerformancePlotCallback(masksSmall[0].reshape((1, SIZESMALL, SIZESMALL, 3)), \n",
        "                                      noMasksSmall[0].reshape((1, SIZESMALL, SIZESMALL, 3)),\n",
        "                                      SIZESMALL)\n",
        "plot_losses = livelossplot.PlotLossesKeras()"
      ],
      "metadata": {
        "id": "xE_rsUYz5YCa"
      },
      "execution_count": null,
      "outputs": []
    },
    {
      "cell_type": "code",
      "source": [
        "# Compile model\n",
        "poolingFree.compile(optimizer='Adam',\n",
        "                    loss='mse',\n",
        "                    metrics=['accuracy'])\n",
        "\n",
        "poolingFree.fit(masksSmall[:350], noMasksSmall[:350],\n",
        "                epochs=50,    \n",
        "                callbacks=[plot_losses, performance],\n",
        "                verbose=1,\n",
        "                validation_data=(masksSmall[350:400], noMasksSmall[350:400]))"
      ],
      "metadata": {
        "id": "YIJrj65w5gQ8"
      },
      "execution_count": null,
      "outputs": []
    },
    {
      "cell_type": "markdown",
      "source": [
        "# Encoder-Decoder CNN"
      ],
      "metadata": {
        "id": "M0DOi_OP1_jA"
      }
    },
    {
      "cell_type": "code",
      "source": [
        "encoder_decoder = keras.Sequential()\n",
        "# Encoder unit\n",
        "encoder_decoder.add(keras.Input(shape=(SIZELARGE, SIZELARGE, 3)))\n",
        "encoder_decoder.add(layers.Conv2D(16, 3, strides=1, activation=\"relu\", padding=\"same\", input_shape=(SIZELARGE,SIZELARGE,3)))\n",
        "encoder_decoder.add(layers.MaxPooling2D(2, padding=\"same\"))\n",
        "encoder_decoder.add(layers.Conv2D(32, 5, strides=1, activation=\"relu\", padding=\"same\"))\n",
        "encoder_decoder.add(layers.MaxPooling2D(2, padding=\"same\"))\n",
        "encoder_decoder.add(layers.Conv2D(64, 3, strides=1, padding=\"same\"))\n",
        "encoder_decoder.add(layers.Dropout(.1))\n",
        "encoder_decoder.add(layers.LeakyReLU(0.2))\n",
        "encoder_decoder.add(layers.MaxPooling2D(2, padding=\"same\"))\n",
        "encoder_decoder.add(layers.Conv2D(64, 3, strides=1, activation=\"relu\", padding=\"same\"))\n",
        "encoder_decoder.add(layers.MaxPooling2D(2, padding=\"same\"))\n",
        "encoder_decoder.add(layers.Conv2D(128, 3, strides=1, padding=\"same\"))\n",
        "encoder_decoder.add(layers.Dropout(.1))\n",
        "encoder_decoder.add(layers.LeakyReLU(0.2))\n",
        "\n",
        "# Decoder unit\n",
        "encoder_decoder.add(layers.Conv2D(128, 3, strides=1, activation=\"relu\", padding=\"same\"))\n",
        "encoder_decoder.add(layers.UpSampling2D(2))\n",
        "encoder_decoder.add(layers.Conv2D(64, 5, strides=1, activation=\"relu\", padding=\"same\"))\n",
        "encoder_decoder.add(layers.UpSampling2D(2))\n",
        "encoder_decoder.add(layers.Conv2D(64, 3, strides=1, padding=\"same\"))\n",
        "encoder_decoder.add(layers.Dropout(.1))\n",
        "encoder_decoder.add(layers.LeakyReLU(0.2))\n",
        "encoder_decoder.add(layers.UpSampling2D(2))\n",
        "encoder_decoder.add(layers.Conv2D(32, 3, strides=1, activation=\"relu\", padding=\"same\"))\n",
        "encoder_decoder.add(layers.UpSampling2D(2))\n",
        "encoder_decoder.add(layers.Conv2D(16, 3, strides=1, padding=\"same\"))\n",
        "encoder_decoder.add(layers.Dropout(.1))\n",
        "encoder_decoder.add(layers.LeakyReLU(0.2))\n",
        "\n",
        "# Output layer\n",
        "encoder_decoder.add(layers.Conv2D(3, 3, activation=\"relu\", padding=\"same\"))"
      ],
      "metadata": {
        "id": "DFp3PCM-2BHj"
      },
      "execution_count": null,
      "outputs": []
    },
    {
      "cell_type": "code",
      "source": [
        "encoder_decoder.summary()"
      ],
      "metadata": {
        "colab": {
          "base_uri": "https://localhost:8080/"
        },
        "id": "keODvT1e6DaD",
        "outputId": "69c973ab-b69a-4849-d356-e14cc5595aac"
      },
      "execution_count": null,
      "outputs": [
        {
          "output_type": "stream",
          "name": "stdout",
          "text": [
            "Model: \"sequential_2\"\n",
            "_________________________________________________________________\n",
            " Layer (type)                Output Shape              Param #   \n",
            "=================================================================\n",
            " conv2d_14 (Conv2D)          (None, 256, 256, 16)      448       \n",
            "                                                                 \n",
            " max_pooling2d_1 (MaxPooling  (None, 128, 128, 16)     0         \n",
            " 2D)                                                             \n",
            "                                                                 \n",
            " conv2d_15 (Conv2D)          (None, 128, 128, 32)      12832     \n",
            "                                                                 \n",
            " max_pooling2d_2 (MaxPooling  (None, 64, 64, 32)       0         \n",
            " 2D)                                                             \n",
            "                                                                 \n",
            " conv2d_16 (Conv2D)          (None, 64, 64, 64)        18496     \n",
            "                                                                 \n",
            " dropout_8 (Dropout)         (None, 64, 64, 64)        0         \n",
            "                                                                 \n",
            " leaky_re_lu (LeakyReLU)     (None, 64, 64, 64)        0         \n",
            "                                                                 \n",
            " max_pooling2d_3 (MaxPooling  (None, 32, 32, 64)       0         \n",
            " 2D)                                                             \n",
            "                                                                 \n",
            " conv2d_17 (Conv2D)          (None, 32, 32, 64)        36928     \n",
            "                                                                 \n",
            " max_pooling2d_4 (MaxPooling  (None, 16, 16, 64)       0         \n",
            " 2D)                                                             \n",
            "                                                                 \n",
            " conv2d_18 (Conv2D)          (None, 16, 16, 128)       73856     \n",
            "                                                                 \n",
            " dropout_9 (Dropout)         (None, 16, 16, 128)       0         \n",
            "                                                                 \n",
            " leaky_re_lu_1 (LeakyReLU)   (None, 16, 16, 128)       0         \n",
            "                                                                 \n",
            " conv2d_19 (Conv2D)          (None, 16, 16, 128)       147584    \n",
            "                                                                 \n",
            " up_sampling2d_1 (UpSampling  (None, 32, 32, 128)      0         \n",
            " 2D)                                                             \n",
            "                                                                 \n",
            " conv2d_20 (Conv2D)          (None, 32, 32, 64)        204864    \n",
            "                                                                 \n",
            " up_sampling2d_2 (UpSampling  (None, 64, 64, 64)       0         \n",
            " 2D)                                                             \n",
            "                                                                 \n",
            " conv2d_21 (Conv2D)          (None, 64, 64, 64)        36928     \n",
            "                                                                 \n",
            " dropout_10 (Dropout)        (None, 64, 64, 64)        0         \n",
            "                                                                 \n",
            " leaky_re_lu_2 (LeakyReLU)   (None, 64, 64, 64)        0         \n",
            "                                                                 \n",
            " up_sampling2d_3 (UpSampling  (None, 128, 128, 64)     0         \n",
            " 2D)                                                             \n",
            "                                                                 \n",
            " conv2d_22 (Conv2D)          (None, 128, 128, 32)      18464     \n",
            "                                                                 \n",
            " up_sampling2d_4 (UpSampling  (None, 256, 256, 32)     0         \n",
            " 2D)                                                             \n",
            "                                                                 \n",
            " conv2d_23 (Conv2D)          (None, 256, 256, 16)      4624      \n",
            "                                                                 \n",
            " dropout_11 (Dropout)        (None, 256, 256, 16)      0         \n",
            "                                                                 \n",
            " leaky_re_lu_3 (LeakyReLU)   (None, 256, 256, 16)      0         \n",
            "                                                                 \n",
            " conv2d_24 (Conv2D)          (None, 256, 256, 3)       435       \n",
            "                                                                 \n",
            "=================================================================\n",
            "Total params: 555,459\n",
            "Trainable params: 555,459\n",
            "Non-trainable params: 0\n",
            "_________________________________________________________________\n"
          ]
        }
      ]
    },
    {
      "cell_type": "code",
      "source": [
        "performance = PerformancePlotCallback(masksLarge[0].reshape((1, SIZELARGE, SIZELARGE, 3)), \n",
        "                                      noMasksLarge[0].reshape((1, SIZELARGE, SIZELARGE, 3)),\n",
        "                                      SIZELARGE)\n",
        "plot_losses = livelossplot.PlotLossesKeras()"
      ],
      "metadata": {
        "id": "OagTCsDv6G3S"
      },
      "execution_count": null,
      "outputs": []
    },
    {
      "cell_type": "code",
      "source": [
        "# Compile model\n",
        "poolingFree.compile(optimizer='Adam',\n",
        "                    loss='mse',\n",
        "                    metrics=['accuracy'])\n",
        "\n",
        "poolingFree.fit(masksLarge[:450], noMasksLarge[:450],\n",
        "                epochs=100,    \n",
        "                callbacks=[plot_losses, performance],\n",
        "                verbose=1,\n",
        "                validation_data=(masksLarge[450:500], noMasksLarge[450:500]))"
      ],
      "metadata": {
        "id": "TQ58vR0A6Li6"
      },
      "execution_count": null,
      "outputs": []
    },
    {
      "cell_type": "markdown",
      "source": [
        "# General GAN Implementation"
      ],
      "metadata": {
        "id": "wa5TdFnS6pCU"
      }
    },
    {
      "cell_type": "code",
      "source": [
        "cross_entropy = tf.keras.losses.BinaryCrossentropy(from_logits=True)\n",
        "\n",
        "def discriminator_loss(real_output, fake_output):\n",
        "    real_loss = cross_entropy(tf.ones_like(real_output), real_output)\n",
        "    fake_loss = cross_entropy(tf.zeros_like(fake_output), fake_output)\n",
        "    total_loss = real_loss + fake_loss\n",
        "    return total_loss\n",
        "\n",
        "def generator_loss(fake_output):\n",
        "    return cross_entropy(tf.ones_like(fake_output), fake_output)\n",
        "\n",
        "generator_optimizer = tf.keras.optimizers.Adam(1e-4)\n",
        "discriminator_optimizer = tf.keras.optimizers.Adam(1e-4)"
      ],
      "metadata": {
        "id": "0OH4etg860gC"
      },
      "execution_count": null,
      "outputs": []
    },
    {
      "cell_type": "code",
      "source": [
        "@tf.function\n",
        "def train_step(generator, discriminator, masks, noMasks):\n",
        "    \n",
        "    with tf.GradientTape() as gen_tape, tf.GradientTape() as disc_tape:\n",
        "      generated_images = generator(masks, training=True)\n",
        "      real_output = discriminator(noMasks, training=True)\n",
        "      fake_output = discriminator(generated_images, training=True)\n",
        "      gen_loss = generator_loss(fake_output)\n",
        "      disc_loss = discriminator_loss(real_output, fake_output)\n",
        "\n",
        "    gradients_of_generator = gen_tape.gradient(gen_loss, generator.trainable_variables)\n",
        "    gradients_of_discriminator = disc_tape.gradient(disc_loss, discriminator.trainable_variables)\n",
        "\n",
        "    generator_optimizer.apply_gradients(zip(gradients_of_generator,\n",
        "                                            generator.trainable_variables))\n",
        "    discriminator_optimizer.apply_gradients(zip(gradients_of_discriminator,\n",
        "                                                discriminator.trainable_variables))"
      ],
      "metadata": {
        "id": "A5oAXxgA66jz"
      },
      "execution_count": null,
      "outputs": []
    },
    {
      "cell_type": "code",
      "source": [
        "def batch_generator(masks, noMasks, batch_size = 32):\n",
        "    indices = np.arange(len(masks)) \n",
        "    np.random.shuffle(indices) \n",
        "    batchesMasks=[masks[indices[i * batch_size : min((i + 1) * batch_size, len(masks))]] for i in range(len(masks) // batch_size)]\n",
        "    batchesNoMasks=[noMasks[indices[i * batch_size : min((i + 1) * batch_size, len(masks))]] for i in range(len(noMasks) // batch_size)]\n",
        "    return batchesMasks, batchesNoMasks\n",
        "\n",
        "def plot_image_pair(model, noMask, epoch):\n",
        "    plt.figure(figsize = (7,7))\n",
        "    plt.subplot(1,2,1)\n",
        "    plt.title(\"Ground Truth\", fontsize = 15)\n",
        "    plt.imshow(noMask.reshape(SIZESMALL, SIZESMALL, 3))\n",
        "    plt.subplot(1,2,2)\n",
        "    plt.title(f\"Prediction for epoch {epoch}\", fontsize = 15)\n",
        "    plt.imshow(tf.reshape(model(np.array([noMask])), (SIZESMALL, SIZESMALL, 3)))\n",
        "\n",
        "def train(generator, discriminator, masks, noMasks, epochs):\n",
        "  checkpoint_dir = './training_checkpoints'\n",
        "  checkpoint_prefix = os.path.join(checkpoint_dir, \"ckpt\")\n",
        "  checkpoint = tf.train.Checkpoint(generator_optimizer=generator_optimizer,\n",
        "                                 discriminator_optimizer=discriminator_optimizer,\n",
        "                                 generator=generator,\n",
        "                                 discriminator=discriminator)\n",
        "\n",
        "  for epoch in range(epochs):\n",
        "    start = time.time()\n",
        "\n",
        "    masksBatches, noMasksBatches = batch_generator(masks, noMasks)\n",
        "    for mB, nM in zip(masksBatches, noMasksBatches):\n",
        "      train_step(mB, nM)\n",
        "\n",
        "    # Plot predicted images as you go\n",
        "    plot_image_pair(generator, masks[0], epoch)\n",
        "\n",
        "    # Save the model every 15 epochs\n",
        "    if (epoch + 1) % 15 == 0:\n",
        "      checkpoint.save(file_prefix = checkpoint_prefix)\n",
        "\n",
        "    print ('Time for epoch {} is {} sec'.format(epoch + 1, time.time()-start))\n",
        "\n",
        "  # Generate after the final epoch\n",
        "  display.clear_output(wait=True)"
      ],
      "metadata": {
        "id": "ZpmGPayl6-id"
      },
      "execution_count": null,
      "outputs": []
    },
    {
      "cell_type": "markdown",
      "source": [
        "# Encoder-Decoder Generator With Pooling-Free Discriminator"
      ],
      "metadata": {
        "id": "E1GW5gJH2Bh6"
      }
    },
    {
      "cell_type": "code",
      "source": [
        "# Pooling-free discriminator (used in both GAN models)\n",
        "discriminator = tf.keras.Sequential()\n",
        "discriminator.add(layers.Conv2D(64, (3, 3), strides=1, padding='same', input_shape=(SIZESMALL, SIZESMALL, 3)))\n",
        "discriminator.add(layers.LeakyReLU())\n",
        "discriminator.add(layers.Conv2D(128, (3, 3), strides=1, padding='same'))\n",
        "discriminator.add(layers.LeakyReLU())\n",
        "discriminator.add(layers.Dropout(0.25))\n",
        "discriminator.add(layers.Flatten())\n",
        "discriminator.add(layers.Dense(1))"
      ],
      "metadata": {
        "id": "bqo8VRRP2KyJ"
      },
      "execution_count": null,
      "outputs": []
    },
    {
      "cell_type": "code",
      "source": [
        "discriminator.summary()"
      ],
      "metadata": {
        "colab": {
          "base_uri": "https://localhost:8080/"
        },
        "id": "IxhYE9AL8wXX",
        "outputId": "9ccd86ca-437b-4fdf-e3eb-bd615feaca63"
      },
      "execution_count": null,
      "outputs": [
        {
          "output_type": "stream",
          "name": "stdout",
          "text": [
            "Model: \"sequential_3\"\n",
            "_________________________________________________________________\n",
            " Layer (type)                Output Shape              Param #   \n",
            "=================================================================\n",
            " conv2d_25 (Conv2D)          (None, 128, 128, 64)      1792      \n",
            "                                                                 \n",
            " leaky_re_lu_4 (LeakyReLU)   (None, 128, 128, 64)      0         \n",
            "                                                                 \n",
            " conv2d_26 (Conv2D)          (None, 128, 128, 128)     73856     \n",
            "                                                                 \n",
            " leaky_re_lu_5 (LeakyReLU)   (None, 128, 128, 128)     0         \n",
            "                                                                 \n",
            " dropout_12 (Dropout)        (None, 128, 128, 128)     0         \n",
            "                                                                 \n",
            " flatten (Flatten)           (None, 2097152)           0         \n",
            "                                                                 \n",
            " dense_2 (Dense)             (None, 1)                 2097153   \n",
            "                                                                 \n",
            "=================================================================\n",
            "Total params: 2,172,801\n",
            "Trainable params: 2,172,801\n",
            "Non-trainable params: 0\n",
            "_________________________________________________________________\n"
          ]
        }
      ]
    },
    {
      "cell_type": "code",
      "source": [
        "# Train the GAN\n",
        "train(encoder_decoder, discriminator, masksSmall[:32*10], noMasksSmall[:32*10], 150)"
      ],
      "metadata": {
        "id": "tMST0IGc8wPS"
      },
      "execution_count": null,
      "outputs": []
    },
    {
      "cell_type": "markdown",
      "source": [
        "# Transposed Convolutional Generator With Pooling-Free Discriminator"
      ],
      "metadata": {
        "id": "39NC-5Cr2LgY"
      }
    },
    {
      "cell_type": "code",
      "source": [
        "generator = keras.Sequential()\n",
        "generator.add(keras.Input(shape=(SIZESMALL, SIZESMALL, 3)))\n",
        "generator.add(layers.Conv2D(32, 3, strides=1, activation=\"relu\", padding=\"same\", input_shape=(SIZESMALL, SIZESMALL, 3)))\n",
        "generator.add(layers.MaxPooling2D(2, padding=\"same\"))\n",
        "generator.add(layers.Conv2D(64, 5, strides=1, activation=\"relu\", padding=\"same\"))\n",
        "generator.add(layers.MaxPooling2D(2, padding=\"same\"))\n",
        "generator.add(layers.Conv2D(128, 3, strides=1, padding=\"same\"))\n",
        "generator.add(layers.Dropout(.25))\n",
        "generator.add(layers.LeakyReLU(alpha=0.2))\n",
        "generator.add(layers.Conv2DTranspose(64, (4, 4), strides=(2, 2), padding=\"same\"))\n",
        "generator.add(layers.LeakyReLU(alpha=0.2))\n",
        "generator.add(layers.Conv2DTranspose(128, (4, 4), strides=(2, 2), activation=\"relu\", padding=\"same\"))\n",
        "generator.add(layers.Dropout(.25))\n",
        "generator.add(layers.LeakyReLU())\n",
        "generator.add(layers.Conv2D(3, 3, activation=\"relu\", padding=\"same\"))"
      ],
      "metadata": {
        "id": "TeSdsy8d2Tm_"
      },
      "execution_count": null,
      "outputs": []
    },
    {
      "cell_type": "code",
      "source": [
        "generator.summary()"
      ],
      "metadata": {
        "colab": {
          "base_uri": "https://localhost:8080/"
        },
        "id": "tm1lpQcm9O8S",
        "outputId": "220161ac-c674-448c-d48a-a4e69ba83153"
      },
      "execution_count": null,
      "outputs": [
        {
          "output_type": "stream",
          "name": "stdout",
          "text": [
            "Model: \"sequential_4\"\n",
            "_________________________________________________________________\n",
            " Layer (type)                Output Shape              Param #   \n",
            "=================================================================\n",
            " conv2d_27 (Conv2D)          (None, 128, 128, 32)      896       \n",
            "                                                                 \n",
            " max_pooling2d_5 (MaxPooling  (None, 64, 64, 32)       0         \n",
            " 2D)                                                             \n",
            "                                                                 \n",
            " conv2d_28 (Conv2D)          (None, 64, 64, 64)        51264     \n",
            "                                                                 \n",
            " max_pooling2d_6 (MaxPooling  (None, 32, 32, 64)       0         \n",
            " 2D)                                                             \n",
            "                                                                 \n",
            " conv2d_29 (Conv2D)          (None, 32, 32, 128)       73856     \n",
            "                                                                 \n",
            " dropout_13 (Dropout)        (None, 32, 32, 128)       0         \n",
            "                                                                 \n",
            " leaky_re_lu_6 (LeakyReLU)   (None, 32, 32, 128)       0         \n",
            "                                                                 \n",
            " conv2d_transpose (Conv2DTra  (None, 64, 64, 64)       131136    \n",
            " nspose)                                                         \n",
            "                                                                 \n",
            " leaky_re_lu_7 (LeakyReLU)   (None, 64, 64, 64)        0         \n",
            "                                                                 \n",
            " conv2d_transpose_1 (Conv2DT  (None, 128, 128, 128)    131200    \n",
            " ranspose)                                                       \n",
            "                                                                 \n",
            " dropout_14 (Dropout)        (None, 128, 128, 128)     0         \n",
            "                                                                 \n",
            " leaky_re_lu_8 (LeakyReLU)   (None, 128, 128, 128)     0         \n",
            "                                                                 \n",
            " conv2d_30 (Conv2D)          (None, 128, 128, 3)       3459      \n",
            "                                                                 \n",
            "=================================================================\n",
            "Total params: 391,811\n",
            "Trainable params: 391,811\n",
            "Non-trainable params: 0\n",
            "_________________________________________________________________\n"
          ]
        }
      ]
    },
    {
      "cell_type": "code",
      "source": [
        "# Train the GAN\n",
        "train(generator, discriminator, masksSmall[:32*10], noMasksSmall[:32*10], 200)"
      ],
      "metadata": {
        "id": "uLfsiQ9O9Pfd"
      },
      "execution_count": null,
      "outputs": []
    },
    {
      "cell_type": "code",
      "source": [
        "from google.colab import drive\n",
        "drive.mount('/content/drive')\n",
        "\n",
        "!sudo apt-get install texlive-xetex texlive-fonts-recommended texlive-generic-recommended\n",
        "!cp \"drive/MyDrive/MLFinal.ipynb\" ./\n",
        "\n",
        "!jupyter nbconvert --to html \"MLFinal.ipynb\""
      ],
      "metadata": {
        "id": "s7MJz6B6-m95",
        "colab": {
          "base_uri": "https://localhost:8080/"
        },
        "outputId": "20161563-4b91-4182-ed41-8a242cad1fa7"
      },
      "execution_count": null,
      "outputs": [
        {
          "output_type": "stream",
          "name": "stdout",
          "text": [
            "Drive already mounted at /content/drive; to attempt to forcibly remount, call drive.mount(\"/content/drive\", force_remount=True).\n",
            "Reading package lists... Done\n",
            "Building dependency tree       \n",
            "Reading state information... Done\n",
            "texlive-fonts-recommended is already the newest version (2017.20180305-1).\n",
            "texlive-generic-recommended is already the newest version (2017.20180305-1).\n",
            "texlive-xetex is already the newest version (2017.20180305-1).\n",
            "The following packages were automatically installed and are no longer required:\n",
            "  libnvidia-common-460 nsight-compute-2020.2.0\n",
            "Use 'sudo apt autoremove' to remove them.\n",
            "0 upgraded, 0 newly installed, 0 to remove and 42 not upgraded.\n",
            "[NbConvertApp] Converting notebook MLFinal.ipynb to html\n",
            "[NbConvertApp] Writing 388320 bytes to MLFinal.html\n"
          ]
        }
      ]
    },
    {
      "cell_type": "code",
      "source": [
        ""
      ],
      "metadata": {
        "id": "y9sU7WDZ-0Oy"
      },
      "execution_count": null,
      "outputs": []
    }
  ]
}